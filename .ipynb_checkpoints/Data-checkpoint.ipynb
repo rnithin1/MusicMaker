{
 "cells": [
  {
   "cell_type": "code",
   "execution_count": 1,
   "metadata": {
    "collapsed": true
   },
   "outputs": [],
   "source": [
    "import librosa  as lr\n",
    "from mido import MidiFile\n",
    "import numpy as np"
   ]
  },
  {
   "cell_type": "code",
   "execution_count": 2,
   "metadata": {},
   "outputs": [],
   "source": [
    "def to_piano_roll(midi):\n",
    "    \"\"\"Convert MIDI file to a 2D NumPy ndarray (notes, timesteps).\"\"\"\n",
    "    notes = 127\n",
    "    tempo = 500000  # Assume same default tempo and 4/4 for all MIDI files.\n",
    "    seconds_per_beat = tempo / 1000000.0\n",
    "    seconds_per_tick = seconds_per_beat / midi.ticks_per_beat\n",
    "    velocities = np.zeros(notes)\n",
    "    sequence = []\n",
    "    for m in midi:\n",
    "        ticks = int(np.round(m.time / seconds_per_tick))\n",
    "        ls = [velocities.copy()] * ticks\n",
    "        sequence.extend(ls)\n",
    "        if m.type == 'note_on':\n",
    "            velocities[m.note] = m.velocity\n",
    "        elif m.type == 'note_off':\n",
    "            velocities[m.note] = 0\n",
    "        else:\n",
    "            continue\n",
    "    piano_roll = np.array(sequence).T\n",
    "    return piano_roll"
   ]
  },
  {
   "cell_type": "code",
   "execution_count": 3,
   "metadata": {
    "collapsed": true
   },
   "outputs": [],
   "source": [
    "something = to_piano_roll(MidiFile('mario.mid'))"
   ]
  },
  {
   "cell_type": "code",
   "execution_count": 27,
   "metadata": {},
   "outputs": [
    {
     "data": {
      "text/plain": [
       "(127, 112)"
      ]
     },
     "execution_count": 27,
     "metadata": {},
     "output_type": "execute_result"
    }
   ],
   "source": [
    "np.array_split(something, 3242, axis=1)[0].shape"
   ]
  },
  {
   "cell_type": "code",
   "execution_count": null,
   "metadata": {
    "collapsed": true
   },
   "outputs": [],
   "source": []
  }
 ],
 "metadata": {
  "kernelspec": {
   "display_name": "Python 3",
   "language": "python",
   "name": "python3"
  },
  "language_info": {
   "codemirror_mode": {
    "name": "ipython",
    "version": 3
   },
   "file_extension": ".py",
   "mimetype": "text/x-python",
   "name": "python",
   "nbconvert_exporter": "python",
   "pygments_lexer": "ipython3",
   "version": "3.6.1"
  }
 },
 "nbformat": 4,
 "nbformat_minor": 2
}
